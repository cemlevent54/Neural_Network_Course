{
  "nbformat": 4,
  "nbformat_minor": 0,
  "metadata": {
    "colab": {
      "provenance": [],
      "gpuType": "T4"
    },
    "kernelspec": {
      "name": "python3",
      "display_name": "Python 3"
    },
    "language_info": {
      "name": "python"
    },
    "accelerator": "GPU"
  },
  "cells": [
    {
      "cell_type": "code",
      "execution_count": null,
      "metadata": {
        "colab": {
          "base_uri": "https://localhost:8080/"
        },
        "id": "KwMLpWoSUVuE",
        "outputId": "1df63d57-9af5-4425-bf5e-4f80f3c2fd12"
      },
      "outputs": [
        {
          "output_type": "stream",
          "name": "stdout",
          "text": [
            "Mounted at /content/drive\n"
          ]
        }
      ],
      "source": [
        "from google.colab import drive\n",
        "drive.mount('/content/drive')\n",
        "import os\n",
        "os.chdir('/content/drive/MyDrive/')"
      ]
    },
    {
      "cell_type": "code",
      "source": [
        "import torch.nn as nn\n",
        "import pandas as pd\n",
        "import torch\n",
        "from torch.optim import Adam\n",
        "from torch.utils.data import Dataset, DataLoader\n",
        "\n",
        "device = torch.device(\"cuda\" if torch.cuda.is_available() else \"cpu\")\n",
        "torch.cuda.is_available()"
      ],
      "metadata": {
        "colab": {
          "base_uri": "https://localhost:8080/"
        },
        "id": "yzeqU45YUnjy",
        "outputId": "ca87a84e-77e7-4cb1-b059-716e102f1a8e"
      },
      "execution_count": null,
      "outputs": [
        {
          "output_type": "execute_result",
          "data": {
            "text/plain": [
              "True"
            ]
          },
          "metadata": {},
          "execution_count": 2
        }
      ]
    },
    {
      "cell_type": "code",
      "source": [
        "train_df = pd.read_csv(\"mnist/sign_mnist_train.csv\")\n",
        "valid_df = pd.read_csv(\"mnist/sign_mnist_valid.csv\")"
      ],
      "metadata": {
        "id": "_JpD_odEUxKN"
      },
      "execution_count": null,
      "outputs": []
    },
    {
      "cell_type": "code",
      "source": [
        "sample_df = train_df.head().copy()  # Grab the top 5 rows\n",
        "sample_df.pop('label')\n",
        "sample_x = sample_df.values\n",
        "sample_x"
      ],
      "metadata": {
        "colab": {
          "base_uri": "https://localhost:8080/"
        },
        "id": "Mvg-wgORVApF",
        "outputId": "877dd6ca-ba24-4942-91bb-bb424d1ed172"
      },
      "execution_count": null,
      "outputs": [
        {
          "output_type": "execute_result",
          "data": {
            "text/plain": [
              "array([[107, 118, 127, ..., 204, 203, 202],\n",
              "       [155, 157, 156, ..., 103, 135, 149],\n",
              "       [187, 188, 188, ..., 195, 194, 195],\n",
              "       [211, 211, 212, ..., 222, 229, 163],\n",
              "       [164, 167, 170, ..., 163, 164, 179]])"
            ]
          },
          "metadata": {},
          "execution_count": 6
        }
      ]
    },
    {
      "cell_type": "code",
      "source": [
        "sample_x.shape"
      ],
      "metadata": {
        "colab": {
          "base_uri": "https://localhost:8080/"
        },
        "id": "eINsErMzVCls",
        "outputId": "a8fe2a96-712b-4eda-e436-e8a80ab2c74b"
      },
      "execution_count": null,
      "outputs": [
        {
          "output_type": "execute_result",
          "data": {
            "text/plain": [
              "(5, 784)"
            ]
          },
          "metadata": {},
          "execution_count": 7
        }
      ]
    },
    {
      "cell_type": "code",
      "source": [
        "IMG_HEIGHT = 28\n",
        "IMG_WIDTH = 28\n",
        "IMG_CHS = 1\n",
        "\n",
        "sample_x = sample_x.reshape(-1, IMG_CHS, IMG_HEIGHT, IMG_WIDTH)\n",
        "sample_x.shape"
      ],
      "metadata": {
        "colab": {
          "base_uri": "https://localhost:8080/"
        },
        "id": "FLks7P0GVKac",
        "outputId": "9d02c7d1-219d-454d-8a3c-9aca5d3e6888"
      },
      "execution_count": null,
      "outputs": [
        {
          "output_type": "execute_result",
          "data": {
            "text/plain": [
              "(5, 1, 28, 28)"
            ]
          },
          "metadata": {},
          "execution_count": 8
        }
      ]
    },
    {
      "cell_type": "code",
      "source": [
        "class MyDataset(Dataset):\n",
        "  def __init__(self, base_df):\n",
        "    x_df = base_df.copy()\n",
        "    y_df = x_df.pop('label')\n",
        "    x_df = x_df.values / 255\n",
        "    x_df = x_df.reshape(-1, IMG_CHS, IMG_WIDTH, IMG_HEIGHT)\n",
        "\n",
        "    self.xs = torch.tensor(x_df).float().to(device)\n",
        "    self.ys = torch.tensor(y_df).to(device)\n",
        "\n",
        "  def __getitem__(self,idx):\n",
        "    x = self.xs[idx]\n",
        "    y = self.ys[idx]\n",
        "    return x,y\n",
        "\n",
        "  def __len__(self):\n",
        "    return len(self.xs)"
      ],
      "metadata": {
        "id": "YhGGizomVU9L"
      },
      "execution_count": null,
      "outputs": []
    },
    {
      "cell_type": "code",
      "source": [
        "BATCH_SIZE = 32\n",
        "\n",
        "train_data = MyDataset(train_df)\n",
        "train_loader = DataLoader(train_data, batch_size=BATCH_SIZE, shuffle=True)\n",
        "train_N = len(train_loader.dataset)\n",
        "\n",
        "valid_data = MyDataset(valid_df)\n",
        "valid_loader = DataLoader(valid_data, batch_size=BATCH_SIZE)\n",
        "valid_N = len(valid_loader.dataset)"
      ],
      "metadata": {
        "id": "x2gTvhVBWS85"
      },
      "execution_count": null,
      "outputs": []
    },
    {
      "cell_type": "code",
      "source": [
        "batch = next(iter(train_loader))\n",
        "batch"
      ],
      "metadata": {
        "colab": {
          "base_uri": "https://localhost:8080/"
        },
        "id": "_TNHhNIqWcyK",
        "outputId": "3dae2bce-b11f-4ca7-9fd5-81ff163d2cc4"
      },
      "execution_count": null,
      "outputs": [
        {
          "output_type": "execute_result",
          "data": {
            "text/plain": [
              "[tensor([[[[0.8549, 0.8549, 0.8510,  ..., 0.8549, 0.8588, 0.8549],\n",
              "           [0.8549, 0.8549, 0.8510,  ..., 0.8588, 0.8549, 0.8510],\n",
              "           [0.8588, 0.8588, 0.8588,  ..., 0.8627, 0.8588, 0.8549],\n",
              "           ...,\n",
              "           [0.5529, 0.5529, 0.5529,  ..., 0.7843, 0.8824, 0.8745],\n",
              "           [0.5529, 0.5490, 0.5490,  ..., 0.7647, 0.7569, 0.8431],\n",
              "           [0.5569, 0.5490, 0.5451,  ..., 0.8941, 0.7882, 0.6824]]],\n",
              " \n",
              " \n",
              "         [[[0.5647, 0.5843, 0.5922,  ..., 0.6353, 0.6275, 0.6275],\n",
              "           [0.5765, 0.5922, 0.6039,  ..., 0.6471, 0.6392, 0.6392],\n",
              "           [0.5882, 0.6078, 0.6157,  ..., 0.6588, 0.6549, 0.6471],\n",
              "           ...,\n",
              "           [0.7059, 0.7216, 0.7373,  ..., 0.7882, 0.7843, 0.7804],\n",
              "           [0.7059, 0.7255, 0.7451,  ..., 0.7882, 0.7843, 0.7765],\n",
              "           [0.7098, 0.7333, 0.7529,  ..., 0.7922, 0.7882, 0.7804]]],\n",
              " \n",
              " \n",
              "         [[[0.0980, 0.1333, 0.1529,  ..., 0.5569, 0.5647, 0.5686],\n",
              "           [0.1020, 0.1333, 0.1529,  ..., 0.5647, 0.5647, 0.5725],\n",
              "           [0.1137, 0.1412, 0.1569,  ..., 0.5765, 0.5804, 0.5843],\n",
              "           ...,\n",
              "           [0.1804, 0.2078, 0.2275,  ..., 0.6902, 0.6941, 0.7020],\n",
              "           [0.1843, 0.2078, 0.2235,  ..., 0.6941, 0.6980, 0.7020],\n",
              "           [0.1843, 0.2118, 0.2275,  ..., 0.6980, 0.7020, 0.7059]]],\n",
              " \n",
              " \n",
              "         ...,\n",
              " \n",
              " \n",
              "         [[[0.5961, 0.6039, 0.6118,  ..., 0.5922, 0.5882, 0.5882],\n",
              "           [0.6039, 0.6118, 0.6196,  ..., 0.5961, 0.5961, 0.5922],\n",
              "           [0.6078, 0.6196, 0.6275,  ..., 0.6078, 0.6039, 0.5961],\n",
              "           ...,\n",
              "           [0.2706, 0.2118, 0.1725,  ..., 0.7451, 0.7451, 0.7373],\n",
              "           [0.2235, 0.2039, 0.1686,  ..., 0.7529, 0.7490, 0.7451],\n",
              "           [0.1765, 0.1882, 0.1686,  ..., 0.7490, 0.7451, 0.7412]]],\n",
              " \n",
              " \n",
              "         [[[0.2039, 0.2196, 0.2235,  ..., 0.5686, 0.5647, 0.5647],\n",
              "           [0.2078, 0.2275, 0.2314,  ..., 0.5765, 0.5765, 0.5765],\n",
              "           [0.2118, 0.2235, 0.2353,  ..., 0.5922, 0.5882, 0.5882],\n",
              "           ...,\n",
              "           [0.2235, 0.2392, 0.3137,  ..., 0.7647, 0.7686, 0.7608],\n",
              "           [0.2157, 0.2314, 0.3137,  ..., 0.7608, 0.7608, 0.7529],\n",
              "           [0.2118, 0.2314, 0.3137,  ..., 0.7608, 0.7569, 0.7569]]],\n",
              " \n",
              " \n",
              "         [[[0.5961, 0.5922, 0.5922,  ..., 0.5804, 0.5765, 0.5725],\n",
              "           [0.6000, 0.5961, 0.6039,  ..., 0.5843, 0.5843, 0.5804],\n",
              "           [0.6000, 0.6000, 0.6078,  ..., 0.5882, 0.5843, 0.5843],\n",
              "           ...,\n",
              "           [0.7765, 0.7686, 0.7490,  ..., 0.6667, 0.6667, 0.6588],\n",
              "           [0.7686, 0.7529, 0.7412,  ..., 0.6667, 0.6667, 0.6706],\n",
              "           [0.7529, 0.7373, 0.7255,  ..., 0.6745, 0.6824, 0.5961]]]],\n",
              "        device='cuda:0'),\n",
              " tensor([15, 20, 22, 15,  9,  9, 17, 22,  2, 21,  5, 11,  2,  9,  6,  8, 10, 21,\n",
              "         22, 20,  8,  0, 23, 22,  3, 16,  3,  9,  4, 12,  9, 18],\n",
              "        device='cuda:0')]"
            ]
          },
          "metadata": {},
          "execution_count": 11
        }
      ]
    },
    {
      "cell_type": "code",
      "source": [
        "batch[0].shape"
      ],
      "metadata": {
        "colab": {
          "base_uri": "https://localhost:8080/"
        },
        "id": "c1P6WV10Wgs4",
        "outputId": "5eaca325-b278-4af3-c99e-ebafa81cbfe2"
      },
      "execution_count": null,
      "outputs": [
        {
          "output_type": "execute_result",
          "data": {
            "text/plain": [
              "torch.Size([32, 1, 28, 28])"
            ]
          },
          "metadata": {},
          "execution_count": 12
        }
      ]
    },
    {
      "cell_type": "code",
      "source": [
        "batch[1].shape"
      ],
      "metadata": {
        "colab": {
          "base_uri": "https://localhost:8080/"
        },
        "id": "2t2doaMdWifV",
        "outputId": "392033b1-9e07-4cd9-bfd9-f5c3606b47ff"
      },
      "execution_count": null,
      "outputs": [
        {
          "output_type": "execute_result",
          "data": {
            "text/plain": [
              "torch.Size([32])"
            ]
          },
          "metadata": {},
          "execution_count": 13
        }
      ]
    },
    {
      "cell_type": "markdown",
      "source": [
        "### Create CNN Model"
      ],
      "metadata": {
        "id": "95qrPAscWs3B"
      }
    },
    {
      "cell_type": "code",
      "source": [
        "n_classes = 24\n",
        "kernel_size = 3\n",
        "flattened_img_size = 75 * 3 * 3\n",
        "\n",
        "model = nn.Sequential(\n",
        "    # First convolution\n",
        "    nn.Conv2d(IMG_CHS, 25, kernel_size, stride=1, padding=1), # 25 x 28 x 28\n",
        "    nn.BatchNorm2d(25),\n",
        "    nn.ReLU(),\n",
        "    nn.MaxPool2d(2, stride=2), # 25 x 14 x 14\n",
        "\n",
        "    # second convolution\n",
        "    nn.Conv2d(25, 50, kernel_size, stride=1, padding=1), # 50 x 14 x 14\n",
        "    nn.BatchNorm2d(50),\n",
        "    nn.ReLU(),\n",
        "    nn.Dropout(.2),\n",
        "    nn.MaxPool2d(2, stride=2), # 50 x 7 x 7\n",
        "\n",
        "    # third convolution\n",
        "    nn.Conv2d(50, 75, kernel_size, stride=1, padding=1), # 75 x 7 x 7\n",
        "    nn.BatchNorm2d(75),\n",
        "    nn.ReLU(),\n",
        "    nn.MaxPool2d(2, stride=2),  # 75 x 3 x 3\n",
        "\n",
        "    # flatten to dense\n",
        "    nn.Flatten(),\n",
        "    nn.Linear(flattened_img_size, 512),\n",
        "    nn.Dropout(.3),\n",
        "    nn.ReLU(),\n",
        "    nn.Linear(512, n_classes)\n",
        "\n",
        "\n",
        "\n",
        "\n",
        ")"
      ],
      "metadata": {
        "id": "7bYI6Hr4Wrjz"
      },
      "execution_count": null,
      "outputs": []
    },
    {
      "cell_type": "code",
      "source": [
        "model = torch.compile(model.to(device))\n",
        "model"
      ],
      "metadata": {
        "colab": {
          "base_uri": "https://localhost:8080/"
        },
        "id": "4CCiEClNX87a",
        "outputId": "a88468e4-7302-448e-b32c-242865672178"
      },
      "execution_count": null,
      "outputs": [
        {
          "output_type": "execute_result",
          "data": {
            "text/plain": [
              "OptimizedModule(\n",
              "  (_orig_mod): Sequential(\n",
              "    (0): Conv2d(1, 25, kernel_size=(3, 3), stride=(1, 1), padding=(1, 1))\n",
              "    (1): BatchNorm2d(25, eps=1e-05, momentum=0.1, affine=True, track_running_stats=True)\n",
              "    (2): ReLU()\n",
              "    (3): MaxPool2d(kernel_size=2, stride=2, padding=0, dilation=1, ceil_mode=False)\n",
              "    (4): Conv2d(25, 50, kernel_size=(3, 3), stride=(1, 1), padding=(1, 1))\n",
              "    (5): BatchNorm2d(50, eps=1e-05, momentum=0.1, affine=True, track_running_stats=True)\n",
              "    (6): ReLU()\n",
              "    (7): Dropout(p=0.2, inplace=False)\n",
              "    (8): MaxPool2d(kernel_size=2, stride=2, padding=0, dilation=1, ceil_mode=False)\n",
              "    (9): Conv2d(50, 75, kernel_size=(3, 3), stride=(1, 1), padding=(1, 1))\n",
              "    (10): BatchNorm2d(75, eps=1e-05, momentum=0.1, affine=True, track_running_stats=True)\n",
              "    (11): ReLU()\n",
              "    (12): MaxPool2d(kernel_size=2, stride=2, padding=0, dilation=1, ceil_mode=False)\n",
              "    (13): Flatten(start_dim=1, end_dim=-1)\n",
              "    (14): Linear(in_features=675, out_features=512, bias=True)\n",
              "    (15): Dropout(p=0.3, inplace=False)\n",
              "    (16): ReLU()\n",
              "    (17): Linear(in_features=512, out_features=24, bias=True)\n",
              "  )\n",
              ")"
            ]
          },
          "metadata": {},
          "execution_count": 16
        }
      ]
    },
    {
      "cell_type": "code",
      "source": [
        "loss_function = nn.CrossEntropyLoss()\n",
        "optimizer = Adam(model.parameters())"
      ],
      "metadata": {
        "id": "k1GqICLbZJ3b"
      },
      "execution_count": null,
      "outputs": []
    },
    {
      "cell_type": "code",
      "source": [
        "def get_batch_accuracy(output, y, N):\n",
        "    pred = output.argmax(dim=1, keepdim=True)\n",
        "    correct = pred.eq(y.view_as(pred)).sum().item()\n",
        "    return correct / N"
      ],
      "metadata": {
        "id": "8qAkXLbVZQgV"
      },
      "execution_count": null,
      "outputs": []
    },
    {
      "cell_type": "code",
      "source": [
        "# SOLUTION\n",
        "def validate():\n",
        "    loss = 0\n",
        "    accuracy = 0\n",
        "\n",
        "    model.eval()\n",
        "    with torch.no_grad():\n",
        "        for x, y in valid_loader:\n",
        "            output = model(x)\n",
        "\n",
        "            loss += loss_function(output, y).item()\n",
        "            accuracy += get_batch_accuracy(output, y, valid_N)\n",
        "    print('Valid - Loss: {:.4f} Accuracy: {:.4f}'.format(loss, accuracy))"
      ],
      "metadata": {
        "id": "LfQ5DGapZSRr"
      },
      "execution_count": null,
      "outputs": []
    },
    {
      "cell_type": "code",
      "source": [
        "# SOLUTION\n",
        "def train():\n",
        "    loss = 0\n",
        "    accuracy = 0\n",
        "\n",
        "    model.train()\n",
        "    for x, y in train_loader:\n",
        "        output = model(x)\n",
        "        optimizer.zero_grad()\n",
        "        batch_loss = loss_function(output, y)\n",
        "        batch_loss.backward()\n",
        "        optimizer.step()\n",
        "\n",
        "        loss += batch_loss.item()\n",
        "        accuracy += get_batch_accuracy(output, y, train_N)\n",
        "    print('Train - Loss: {:.4f} Accuracy: {:.4f}'.format(loss, accuracy))"
      ],
      "metadata": {
        "id": "mIJ2AlwmZ9yb"
      },
      "execution_count": null,
      "outputs": []
    },
    {
      "cell_type": "code",
      "source": [
        "epochs = 20\n",
        "\n",
        "for epoch in range(epochs):\n",
        "    print('Epoch: {}'.format(epoch))\n",
        "    train()\n",
        "    validate()"
      ],
      "metadata": {
        "colab": {
          "base_uri": "https://localhost:8080/"
        },
        "id": "ojAErArYaF8Q",
        "outputId": "22a0c240-daa8-4e7f-bb4b-1373415793b2"
      },
      "execution_count": null,
      "outputs": [
        {
          "output_type": "stream",
          "name": "stdout",
          "text": [
            "Epoch: 0\n",
            "Train - Loss: 2.2750 Accuracy: 0.9993\n",
            "Valid - Loss: 18.6590 Accuracy: 0.9813\n",
            "Epoch: 1\n",
            "Train - Loss: 5.7010 Accuracy: 0.9981\n",
            "Valid - Loss: 55.2708 Accuracy: 0.9361\n",
            "Epoch: 2\n",
            "Train - Loss: 4.3507 Accuracy: 0.9987\n",
            "Valid - Loss: 22.2589 Accuracy: 0.9734\n",
            "Epoch: 3\n",
            "Train - Loss: 1.1986 Accuracy: 0.9996\n",
            "Valid - Loss: 23.5790 Accuracy: 0.9770\n",
            "Epoch: 4\n",
            "Train - Loss: 2.8386 Accuracy: 0.9991\n",
            "Valid - Loss: 66.3853 Accuracy: 0.9550\n",
            "Epoch: 5\n",
            "Train - Loss: 4.1812 Accuracy: 0.9988\n",
            "Valid - Loss: 43.1090 Accuracy: 0.9621\n",
            "Epoch: 6\n",
            "Train - Loss: 0.4591 Accuracy: 0.9999\n",
            "Valid - Loss: 41.3800 Accuracy: 0.9690\n",
            "Epoch: 7\n",
            "Train - Loss: 3.5612 Accuracy: 0.9993\n",
            "Valid - Loss: 50.8167 Accuracy: 0.9473\n",
            "Epoch: 8\n",
            "Train - Loss: 2.3675 Accuracy: 0.9991\n",
            "Valid - Loss: 31.0296 Accuracy: 0.9678\n",
            "Epoch: 9\n",
            "Train - Loss: 0.6095 Accuracy: 0.9998\n",
            "Valid - Loss: 42.8845 Accuracy: 0.9596\n",
            "Epoch: 10\n",
            "Train - Loss: 5.1661 Accuracy: 0.9984\n",
            "Valid - Loss: 36.5354 Accuracy: 0.9791\n",
            "Epoch: 11\n",
            "Train - Loss: 1.2967 Accuracy: 0.9996\n",
            "Valid - Loss: 53.8461 Accuracy: 0.9692\n",
            "Epoch: 12\n",
            "Train - Loss: 0.9221 Accuracy: 0.9996\n",
            "Valid - Loss: 49.2511 Accuracy: 0.9706\n",
            "Epoch: 13\n",
            "Train - Loss: 4.3454 Accuracy: 0.9988\n",
            "Valid - Loss: 37.5102 Accuracy: 0.9720\n",
            "Epoch: 14\n",
            "Train - Loss: 2.0198 Accuracy: 0.9995\n",
            "Valid - Loss: 40.0863 Accuracy: 0.9725\n",
            "Epoch: 15\n",
            "Train - Loss: 0.6637 Accuracy: 0.9998\n",
            "Valid - Loss: 50.7727 Accuracy: 0.9690\n",
            "Epoch: 16\n",
            "Train - Loss: 5.5974 Accuracy: 0.9987\n",
            "Valid - Loss: 37.7998 Accuracy: 0.9700\n",
            "Epoch: 17\n",
            "Train - Loss: 0.5765 Accuracy: 0.9998\n",
            "Valid - Loss: 50.9163 Accuracy: 0.9660\n",
            "Epoch: 18\n",
            "Train - Loss: 1.5259 Accuracy: 0.9998\n",
            "Valid - Loss: 42.4313 Accuracy: 0.9679\n",
            "Epoch: 19\n",
            "Train - Loss: 3.8612 Accuracy: 0.9990\n",
            "Valid - Loss: 112.6488 Accuracy: 0.9357\n"
          ]
        }
      ]
    }
  ]
}